{
 "cells": [
  {
   "cell_type": "code",
   "id": "initial_id",
   "metadata": {
    "collapsed": true,
    "jupyter": {
     "is_executing": true
    },
    "ExecuteTime": {
     "start_time": "2024-09-01T17:42:36.605664Z"
    }
   },
   "source": [
    "from confluent_kafka import Producer\n",
    "import requests\n",
    "import json\n",
    "import time\n",
    "import pandas as pd\n",
    "\n",
    "url = \"https://api.coingecko.com/api/v3/coins/markets\"\n",
    "params = {\n",
    "    'vs_currency': 'usd',\n",
    "    'order': 'market_cap_desc',\n",
    "    'per_page': 100,\n",
    "    'page': 1,\n",
    "    'sparkline': False\n",
    "}\n",
    "# Kafka producer setup for streaming data\n",
    "producer = KafkaProducer(bootstrap_servers='localhost:9092',\n",
    "                         value_serializer=lambda v: json.dumps(v).encode('utf-8'))\n",
    "\n",
    "# Initialize an empty DataFrame to store data\n",
    "all_data = pd.DataFrame()\n",
    "\n",
    "while True:\n",
    "    # Fetch data from the API\n",
    "    response = requests.get(url, params=params)\n",
    "    data = response.json()\n",
    "    \n",
    "    # Convert the data to a DataFrame and append to existing data\n",
    "    df = pd.DataFrame(data)\n",
    "    all_data = pd.concat([all_data, df], ignore_index=True)\n",
    "    \n",
    "    # Save the data to a CSV file\n",
    "    all_data.to_csv('kafka_crypto_data.csv', index=False)\n",
    "    \n",
    "    # Send the data to the Kafka topic\n",
    "    producer.send('crypto-topic', data)\n",
    "    \n",
    "    # Wait for one minute before fetching new data\n",
    "    time.sleep(60)"
   ],
   "outputs": [],
   "execution_count": null
  }
 ],
 "metadata": {
  "kernelspec": {
   "display_name": "Python 3",
   "language": "python",
   "name": "python3"
  },
  "language_info": {
   "codemirror_mode": {
    "name": "ipython",
    "version": 2
   },
   "file_extension": ".py",
   "mimetype": "text/x-python",
   "name": "python",
   "nbconvert_exporter": "python",
   "pygments_lexer": "ipython2",
   "version": "2.7.6"
  }
 },
 "nbformat": 4,
 "nbformat_minor": 5
}
